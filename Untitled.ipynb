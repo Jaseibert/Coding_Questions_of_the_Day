{
 "cells": [
  {
   "cell_type": "code",
   "execution_count": 68,
   "metadata": {},
   "outputs": [],
   "source": [
    "'''This problem was recently asked by Google.\n",
    "\n",
    "Given a list of numbers and a number k, return whether any two numbers from the list add up to k.\n",
    "\n",
    "For example, given [10, 15, 3, 7] and k of 17, return true since 10 + 7 is 17.\n",
    "\n",
    "Bonus: Can you do this in one pass?'''\n",
    "\n",
    "#Date: 5/16/2019\n",
    "#Level: Easy\n",
    "\n",
    "#Consideration 1: Can the list contain Negative Values?\n",
    "#Consideration 2: Is a number considered type int or float or exclusively one type?\n",
    "#Consideration 3: Can we use pre-compiled sort algorithms, or would you like me to define a sort method?\n",
    "#Consideration 4: Can their be duplicates?\n",
    "\n",
    "\n",
    "def sum_two_nums_in_a_list(l=[], k=None):\n",
    "    '''This function determines if 2 numbers within a list (l) aggregate to the parameter k.\n",
    "\n",
    "    :param l: the list of nums\n",
    "    :param k: the target sum value\n",
    "    :return: Bool indicating if there exists a sum or not\n",
    "    '''\n",
    "    # Naive Solution\n",
    "\n",
    "    # Sort List\n",
    "    l.sort()\n",
    "    \n",
    "    # Bound this by [-k,2k]\n",
    "    bound = set([v for v in l if v >= -1*k and v <= 2*k])\n",
    "    \n",
    "    #Use the fact that (k-v) is the value that will evaluate this to true\n",
    "    for v in bound: \n",
    "        if k-v in bound: \n",
    "            return True\n",
    "    return False"
   ]
  },
  {
   "cell_type": "code",
   "execution_count": 69,
   "metadata": {},
   "outputs": [
    {
     "data": {
      "text/plain": [
       "True"
      ]
     },
     "execution_count": 69,
     "metadata": {},
     "output_type": "execute_result"
    }
   ],
   "source": [
    "list_ = [-17, 0, 4, 34, 45, 56, 3]\n",
    "sum_two_nums_in_a_list(list_, 17)"
   ]
  },
  {
   "cell_type": "code",
   "execution_count": null,
   "metadata": {},
   "outputs": [],
   "source": []
  },
  {
   "cell_type": "code",
   "execution_count": null,
   "metadata": {},
   "outputs": [],
   "source": []
  }
 ],
 "metadata": {
  "kernelspec": {
   "display_name": "Python 3",
   "language": "python",
   "name": "python3"
  },
  "language_info": {
   "codemirror_mode": {
    "name": "ipython",
    "version": 3
   },
   "file_extension": ".py",
   "mimetype": "text/x-python",
   "name": "python",
   "nbconvert_exporter": "python",
   "pygments_lexer": "ipython3",
   "version": "3.6.5"
  }
 },
 "nbformat": 4,
 "nbformat_minor": 2
}
